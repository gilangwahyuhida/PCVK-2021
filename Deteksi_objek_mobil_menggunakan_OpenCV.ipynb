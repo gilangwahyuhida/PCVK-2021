{
  "nbformat": 4,
  "nbformat_minor": 0,
  "metadata": {
    "colab": {
      "name": "Deteksi objek mobil menggunakan OpenCV.ipynb",
      "provenance": [],
      "authorship_tag": "ABX9TyNQXBQujIihxPcncocNefvJ",
      "include_colab_link": true
    },
    "kernelspec": {
      "name": "python3",
      "display_name": "Python 3"
    },
    "language_info": {
      "name": "python"
    }
  },
  "cells": [
    {
      "cell_type": "markdown",
      "metadata": {
        "id": "view-in-github",
        "colab_type": "text"
      },
      "source": [
        "<a href=\"https://colab.research.google.com/github/gilangwahyuhida/PCVK-2021/blob/main/Deteksi_objek_mobil_menggunakan_OpenCV.ipynb\" target=\"_parent\"><img src=\"https://colab.research.google.com/assets/colab-badge.svg\" alt=\"Open In Colab\"/></a>"
      ]
    },
    {
      "cell_type": "code",
      "metadata": {
        "id": "hrT8sTvH-MOT"
      },
      "source": [
        "import cv2\n",
        "\n",
        "cap = cv2.VideoCapture(\"lalu_lintas.mp4\")\n",
        "deteksi = cv2.createBackgroundSubtractorMOG2()\n",
        "\n",
        "while True:\n",
        "  ret, frame = cap.read()\n",
        "  area = frame [250:575, 150:700]\n",
        "  objek = deteksi.apply(area)\n",
        "  contours, _ = cv2.findContours(objek, cv2.RETR_TREE, cv2.CHAIN_APPROX_SIMPLE)\n",
        "  for cnt in contours:\n",
        "    luas = cv2.contourArea(cnt)\n",
        "    if luas > 800:\n",
        "      cv2.drawContours(area, (cnt), -1, (0,255,0), 3)\n",
        "      x, y, w, h = cv2.boundingRect(cnt)\n",
        "      cv2.rectangle(area, (x,y), (x+w, y+h), (0,255,0), 3)\n",
        "\n",
        "  cv2.imshow(\"lalu_lintas\", frame)\n",
        "  cv2.imshow(\"Objek\", objek)\n",
        "  cv2.imshow(\"Area\", area)\n",
        "\n",
        "  key = cv2.waitKey(30)\n",
        "  if key == 27:\n",
        "    break\n",
        "\n",
        "cap.release()\n",
        "cv2.destroyAllWindows"
      ],
      "execution_count": null,
      "outputs": []
    }
  ]
}